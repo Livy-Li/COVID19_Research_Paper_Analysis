{
  "nbformat": 4,
  "nbformat_minor": 0,
  "metadata": {
    "accelerator": "GPU",
    "colab": {
      "name": "Covid19_Analysis.ipynb",
      "provenance": [],
      "collapsed_sections": [],
      "include_colab_link": true
    },
    "kernelspec": {
      "display_name": "Python 3",
      "language": "python",
      "name": "python3"
    },
    "language_info": {
      "codemirror_mode": {
        "name": "ipython",
        "version": 3
      },
      "file_extension": ".py",
      "mimetype": "text/x-python",
      "name": "python",
      "nbconvert_exporter": "python",
      "pygments_lexer": "ipython3",
      "version": "3.8.5"
    }
  },
  "cells": [
    {
      "cell_type": "markdown",
      "metadata": {
        "id": "view-in-github",
        "colab_type": "text"
      },
      "source": [
        "<a href=\"https://colab.research.google.com/github/Livy-Li/COVID19_Research_Paper_Analysis/blob/main/Covid19_Analysis.ipynb\" target=\"_parent\"><img src=\"https://colab.research.google.com/assets/colab-badge.svg\" alt=\"Open In Colab\"/></a>"
      ]
    },
    {
      "cell_type": "markdown",
      "metadata": {
        "id": "OiD1JI9Z1_VN"
      },
      "source": [
        "# Investigation of Precautions to Prevent the Spread of Covid"
      ]
    },
    {
      "cell_type": "markdown",
      "metadata": {
        "id": "Zz0xxDdG4a1N"
      },
      "source": [
        "The research question defined for this project is to use the open sourced research papers to investigate the difference of precaution measures used to prevent the spread of coronavirus between Pre-COVID19 and Post COVID-19 times\n",
        "\n",
        "\n",
        "The abstracts of the research papers are separated into two groups based on their publishing times, the pre-COVID19 group and the post-COVID19 group. We then explore the two groups separately about \n",
        "\n",
        "1)what are the most used precaution meausures to prevent the spread of coronavirus\n",
        "\n",
        "2)utilizing unsupervised clustering ML algorithm to group precaution measures, see how close they relate to each other\n",
        "\n",
        "Finally we make comparisons between the results of the two groups, in order to gain more insights about whether covid-19 precautions are different from the precautions used in previous coronavirus cases."
      ]
    },
    {
      "cell_type": "code",
      "metadata": {
        "id": "_6P6YusoCDxj"
      },
      "source": [
        "#import libraries\n",
        "import pandas as pd\n",
        "import numpy as np\n",
        "import matplotlib.pyplot as plt\n",
        "import re"
      ],
      "execution_count": null,
      "outputs": []
    },
    {
      "cell_type": "code",
      "metadata": {
        "colab": {
          "base_uri": "https://localhost:8080/",
          "height": 494
        },
        "id": "MNOwbH0SCPy5",
        "outputId": "94d2eb25-2b28-4e13-f3b5-121cf644205b"
      },
      "source": [
        "#read data\n",
        "df = pd.read_csv('metadata.csv')"
      ],
      "execution_count": null,
      "outputs": [
        {
          "output_type": "stream",
          "text": [
            "/opt/anaconda3/lib/python3.8/site-packages/IPython/core/interactiveshell.py:3146: DtypeWarning: Columns (1,4,5,6,13,14,15,16) have mixed types.Specify dtype option on import or set low_memory=False.\n",
            "  has_raised = await self.run_ast_nodes(code_ast.body, cell_name,\n"
          ],
          "name": "stderr"
        }
      ]
    },
    {
      "cell_type": "markdown",
      "metadata": {
        "id": "HudKBqJgzz7O"
      },
      "source": [
        "## 1.Data Cleaning"
      ]
    },
    {
      "cell_type": "code",
      "metadata": {
        "colab": {
          "base_uri": "https://localhost:8080/",
          "height": 204
        },
        "id": "v1rFDGpsEHQL",
        "outputId": "4bf3cc0e-bbbd-479f-c142-caa5785e75e0"
      },
      "source": [
        "#extract useful columns from the raw data\n",
        "df = df[['abstract','publish_time']]\n",
        "\n",
        "#drop duplicates and drop rows containing nan\n",
        "df = df.drop_duplicates(subset='abstract', keep=\"first\")\n",
        "df = df.dropna()\n",
        "\n",
        "#turn the abstract string into all lower case and strip any signs\n",
        "#for easier text mining\n",
        "df[\"abstract\"] = df[\"abstract\"].str.lower()\n",
        "df[\"abstract\"] = df[\"abstract\"].apply(lambda x: ' '.join(re.sub(r\"[^a-zA-Z0-9\\s]\",\" \",x).split()))\n",
        "df.head()"
      ],
      "execution_count": null,
      "outputs": [
        {
          "output_type": "execute_result",
          "data": {
            "text/html": [
              "<div>\n",
              "<style scoped>\n",
              "    .dataframe tbody tr th:only-of-type {\n",
              "        vertical-align: middle;\n",
              "    }\n",
              "\n",
              "    .dataframe tbody tr th {\n",
              "        vertical-align: top;\n",
              "    }\n",
              "\n",
              "    .dataframe thead th {\n",
              "        text-align: right;\n",
              "    }\n",
              "</style>\n",
              "<table border=\"1\" class=\"dataframe\">\n",
              "  <thead>\n",
              "    <tr style=\"text-align: right;\">\n",
              "      <th></th>\n",
              "      <th>abstract</th>\n",
              "      <th>publish_time</th>\n",
              "    </tr>\n",
              "  </thead>\n",
              "  <tbody>\n",
              "    <tr>\n",
              "      <th>0</th>\n",
              "      <td>objective this retrospective chart review desc...</td>\n",
              "      <td>2001-07-04</td>\n",
              "    </tr>\n",
              "    <tr>\n",
              "      <th>1</th>\n",
              "      <td>inflammatory diseases of the respiratory tract...</td>\n",
              "      <td>2000-08-15</td>\n",
              "    </tr>\n",
              "    <tr>\n",
              "      <th>2</th>\n",
              "      <td>surfactant protein d sp d participates in the ...</td>\n",
              "      <td>2000-08-25</td>\n",
              "    </tr>\n",
              "    <tr>\n",
              "      <th>3</th>\n",
              "      <td>endothelin 1 et 1 is a 21 amino acid peptide w...</td>\n",
              "      <td>2001-02-22</td>\n",
              "    </tr>\n",
              "    <tr>\n",
              "      <th>4</th>\n",
              "      <td>respiratory syncytial virus rsv and pneumonia ...</td>\n",
              "      <td>2001-05-11</td>\n",
              "    </tr>\n",
              "  </tbody>\n",
              "</table>\n",
              "</div>"
            ],
            "text/plain": [
              "                                            abstract publish_time\n",
              "0  objective this retrospective chart review desc...   2001-07-04\n",
              "1  inflammatory diseases of the respiratory tract...   2000-08-15\n",
              "2  surfactant protein d sp d participates in the ...   2000-08-25\n",
              "3  endothelin 1 et 1 is a 21 amino acid peptide w...   2001-02-22\n",
              "4  respiratory syncytial virus rsv and pneumonia ...   2001-05-11"
            ]
          },
          "metadata": {
            "tags": []
          },
          "execution_count": 3
        }
      ]
    },
    {
      "cell_type": "code",
      "metadata": {
        "id": "wwZGJxzd3shN"
      },
      "source": [
        "pre_covid19_abstract = df.loc[df['publish_time']<'2020']['abstract']\n",
        "post_covid19_abstract = df.loc[df['publish_time']>='2020']['abstract']"
      ],
      "execution_count": null,
      "outputs": []
    },
    {
      "cell_type": "markdown",
      "metadata": {
        "id": "0JkSq1Q5-bhp"
      },
      "source": [
        "## 2.Data Visualization and Exploratory Data Analysis"
      ]
    },
    {
      "cell_type": "markdown",
      "metadata": {
        "id": "4MFiLs-LnLGK"
      },
      "source": [
        "First, we need to identify the general precautions that were used in preventing the spread of coronavirus. These precautions are grouped in to 6 categories listed below:\n",
        "\n",
        "1) Wearing facemask\n",
        "\n",
        "2) wash hands and keep general sanitization\n",
        "\n",
        "3) social distancing\n",
        "\n",
        "4) lockdown / stay at home order\n",
        "\n",
        "5) close school and non-essential business\n",
        "\n",
        "6) travel restrictions\n",
        "\n",
        "Each of the category might have one or more keywords related to them, by counting the number of abstracts containing these keywords, we can get an impression of which ones are the most talked about in the academic papers for both pre and post COVID19 periods\n",
        "\n",
        "NOTE: some of the keywords might be stemmed, in order to catch the same word in different forms. For example: the keyword \"sanitiz\" is used to find all of the words in the same family \"sanitize\", \"sanitizing\",\"sanitized\",\"sanitizes\" etc."
      ]
    },
    {
      "cell_type": "code",
      "metadata": {
        "id": "nXNid-sPnLGL"
      },
      "source": [
        "#identify keywords for each precaution category\n",
        "precaution_mask = ['mask', 'facemask']\n",
        "precaution_hygiene = ['handwash','wash hand','hand wash','sanitiz','hand hygiene','disinfec']\n",
        "precaution_distancing = ['social distanc','reduce contact','contact restric']\n",
        "precaution_lockdown = ['quarantin','lock down','lockdown','stay at home','work from home']\n",
        "precaution_closure = ['close school','school clos','business clos','non essential business']\n",
        "precaution_notravel = ['border control','travel ban','reduce travel','travel control','travel restric']"
      ],
      "execution_count": null,
      "outputs": []
    },
    {
      "cell_type": "code",
      "metadata": {
        "id": "V8rMSETmnLGL",
        "outputId": "14319c31-49cf-46ec-924c-ce283fcd12d5"
      },
      "source": [
        "#count the number of abstracts containing keywords from each of the precaution category for pre-COVID19 papers\n",
        "pre_precaution_count = {\"mask\":0,\"hygiene\":0,\"distancing\":0,\n",
        "                        \"lockdown\":0,\"closure\":0,\"no_travel\":0}\n",
        "\n",
        "pre_no_keywords = 0\n",
        "for abstract in pre_covid19_abstract:\n",
        "    counter = 0\n",
        "    if any(word in abstract for word in precaution_mask):\n",
        "        pre_precaution_count['mask']+=1\n",
        "        counter+=1\n",
        "    if any(word in abstract for word in precaution_hygiene):\n",
        "        pre_precaution_count['hygiene']+=1\n",
        "        counter+=1\n",
        "    if any(word in abstract for word in precaution_distancing):\n",
        "        pre_precaution_count['distancing']+=1\n",
        "        counter+=1\n",
        "    if any(word in abstract for word in precaution_lockdown):\n",
        "        pre_precaution_count['lockdown']+=1\n",
        "        counter+=1\n",
        "    if any(word in abstract for word in precaution_closure):\n",
        "        pre_precaution_count['closure']+=1\n",
        "        counter+=1\n",
        "    if any(word in abstract for word in precaution_notravel):\n",
        "        pre_precaution_count['no_travel']+=1\n",
        "        counter+=1\n",
        "    if counter == 0:\n",
        "        pre_no_keywords += 1\n",
        "\n",
        "print(pre_precaution_count)\n",
        "print(f\"\\nThe total number of abstract of pre-COVID19 period is {pre_covid19_abstract.shape[0]}\")\n",
        "print(f\"The number of abstracts that contain keywords is {pre_covid19_abstract.shape[0]-pre_no_keywords}\")"
      ],
      "execution_count": null,
      "outputs": [
        {
          "output_type": "stream",
          "text": [
            "{'mask': 690, 'hygiene': 645, 'distancing': 90, 'lockdown': 433, 'closure': 40, 'no_travel': 61}\n",
            "\n",
            "The total number of abstract of pre-COVID19 period is 79546\n",
            "The number of abstracts that contain keywords is 1743\n"
          ],
          "name": "stdout"
        }
      ]
    },
    {
      "cell_type": "code",
      "metadata": {
        "id": "-s_WllKEnLGL",
        "outputId": "39e9866a-86fe-4eef-e0eb-a2cf781eda4e"
      },
      "source": [
        "#graph the number of abstracts containing keywords from each of the precaution category for pre-COVID19 papers\n",
        "plt.bar(pre_precaution_count.keys(), pre_precaution_count.values())\n",
        "    \n",
        "plt.xlabel('Precaution types')\n",
        "plt.ylabel('# abstracts')\n",
        "plt.title('Number of abstracts for each precaution type (pre-COVID19)')\n",
        "plt.show()"
      ],
      "execution_count": null,
      "outputs": [
        {
          "output_type": "display_data",
          "data": {
            "image/png": "[encoded data removed]",
            "text/plain": [
              "<Figure size 432x288 with 1 Axes>"
            ]
          },
          "metadata": {
            "tags": [],
            "needs_background": "light"
          }
        }
      ]
    },
    {
      "cell_type": "code",
      "metadata": {
        "id": "TaBydZBYnLGM",
        "outputId": "49d12749-7698-49e3-95a1-febcd96efbcb"
      },
      "source": [
        "#count the number of abstracts containing keywords from each of the precaution category for post-COVID19 papers\n",
        "post_precaution_count = {\"mask\":0,\"hygiene\":0,\"distancing\":0,\n",
        "                        \"lockdown\":0,\"closure\":0,\"no_travel\":0}\n",
        "\n",
        "post_no_keywords = 0\n",
        "for abstract in post_covid19_abstract:\n",
        "    counter = 0\n",
        "    if any(word in abstract for word in precaution_mask):\n",
        "            post_precaution_count['mask']+=1\n",
        "            counter+=1\n",
        "    if any(word in abstract for word in precaution_hygiene):\n",
        "            post_precaution_count['hygiene']+=1\n",
        "            counter+=1\n",
        "    if any(word in abstract for word in precaution_distancing):\n",
        "            post_precaution_count['distancing']+=1\n",
        "            counter+=1\n",
        "    if any(word in abstract for word in precaution_lockdown):\n",
        "            post_precaution_count['lockdown']+=1\n",
        "            counter+=1\n",
        "    if any(word in abstract for word in precaution_closure):\n",
        "            post_precaution_count['closure']+=1\n",
        "            counter+=1\n",
        "    if any(word in abstract for word in precaution_notravel):\n",
        "            post_precaution_count['no_travel']+=1\n",
        "            counter+=1\n",
        "    if counter == 0:\n",
        "        post_no_keywords += 1\n",
        "\n",
        "print(post_precaution_count)\n",
        "print(f\"\\nThe total number of abstract of post-COVID19 period is {post_covid19_abstract.shape[0]}\")\n",
        "print(f\"The number of abstracts that contain keywords is {post_covid19_abstract.shape[0]-post_no_keywords}\")"
      ],
      "execution_count": null,
      "outputs": [
        {
          "output_type": "stream",
          "text": [
            "{'mask': 6330, 'hygiene': 3937, 'distancing': 8649, 'lockdown': 19283, 'closure': 883, 'no_travel': 950}\n",
            "\n",
            "The total number of abstract of post-COVID19 period is 244150\n",
            "The number of abstracts that contain keywords is 32384\n"
          ],
          "name": "stdout"
        }
      ]
    },
    {
      "cell_type": "code",
      "metadata": {
        "id": "v9EIy8p-nLGM",
        "outputId": "9dcb07a8-2e10-473b-8438-d8d1348da950"
      },
      "source": [
        "#graph the number of abstracts containing keywords from each of the precaution category for post-COVID19 papers\n",
        "plt.bar(post_precaution_count.keys(), post_precaution_count.values())\n",
        "    \n",
        "plt.xlabel('Precaution types')\n",
        "plt.ylabel('# abstracts')\n",
        "plt.title('Number of abstracts for each precaution type (post-COVID19)')\n",
        "plt.show()"
      ],
      "execution_count": null,
      "outputs": [
        {
          "output_type": "display_data",
          "data": {
            "image/png": "[encoded data removed]",
            "text/plain": [
              "<Figure size 432x288 with 1 Axes>"
            ]
          },
          "metadata": {
            "tags": [],
            "needs_background": "light"
          }
        }
      ]
    },
    {
      "cell_type": "code",
      "metadata": {
        "id": "TemKA1MPnLGN",
        "outputId": "9c6a86f4-aa48-4382-edf6-073010832ddf"
      },
      "source": [
        "# graph the total number of abstracts that contain keywords and not contain keywords for each periods\n",
        "contain_keywords = [pre_covid19_abstract.shape[0]-pre_no_keywords,post_covid19_abstract.shape[0]-post_no_keywords]\n",
        "no_keywords = [pre_no_keywords,post_no_keywords]\n",
        "\n",
        "\n",
        "N = 2\n",
        "ind = np.arange(N) # the x locations for the groups\n",
        "width = 0.35\n",
        "fig = plt.figure()\n",
        "ax = fig.add_axes([0,0,1,1])\n",
        "\n",
        "ax.bar(ind, contain_keywords, width, color='r')\n",
        "ax.bar(ind, no_keywords, width,bottom=contain_keywords, color='b')\n",
        "\n",
        "ax.set_ylabel('# abstracts')\n",
        "ax.set_xlabel('Publishing Time')\n",
        "ax.set_title('Number of abstracts containing precaution keywords')\n",
        "ax.set_xticks(ind)\n",
        "ax.set_xticklabels(('Pre-COVID19', 'Post-COVID19'))\n",
        "ax.legend(labels=['contain keywords', 'no keywords'])\n",
        "plt.show()\n",
        "\n",
        "print(\"Percentage of abstracts containing precaution keywords\")\n",
        "print(f\"Pre-COVID19: {round(((pre_covid19_abstract.shape[0]-pre_no_keywords)/pre_covid19_abstract.shape[0]*100),2 )}%\")\n",
        "print(f\"Post-COVID19: {round(((post_covid19_abstract.shape[0]-post_no_keywords)/post_covid19_abstract.shape[0]*100),2 )}%\")"
      ],
      "execution_count": null,
      "outputs": [
        {
          "output_type": "display_data",
          "data": {
            "image/png": "[encoded data removed]",
            "text/plain": [
              "<Figure size 432x288 with 1 Axes>"
            ]
          },
          "metadata": {
            "tags": [],
            "needs_background": "light"
          }
        },
        {
          "output_type": "stream",
          "text": [
            "Percentage of abstracts containing precaution keywords\n",
            "Pre-COVID19: 2.19%\n",
            "Post-COVID19: 13.26%\n"
          ],
          "name": "stdout"
        }
      ]
    },
    {
      "cell_type": "markdown",
      "metadata": {
        "id": "EdF-rVYYnLGN"
      },
      "source": [
        "From the graph above we can see that the for post-COVID19 papers, a larger percentage of them contain precaution keywords than pre-COVID19 papers.\n",
        "\n",
        "There are also lot more papers post-COVID19 than pre-COVID19, therefore, it is not meaningful to compare the number of abstracts for each precaution category, we can instead compare the percentage of abstract for each category.\n",
        "\n",
        "The percentage of abstract is calculated by using the number of abstracts for each of the category devide the number of total abstracts containing precaution keywords\n",
        "\n",
        "Then we can compare the percentage of abstract for each of the precaution category, and see if there is any change from the pre-COVID19 period to the post-COVID19 period."
      ]
    },
    {
      "cell_type": "code",
      "metadata": {
        "id": "XkX3NEuYnLGN",
        "outputId": "c69a71db-bbb4-478b-c82a-82ba11c5f465"
      },
      "source": [
        "#since the total number of pre and post COVID19 papers are not on the same magnitude\n",
        "#we need to compare percentages\n",
        "#calculate the percentage for each of the precaution category using their respective number devide by the total number\n",
        "#compare the results between pre and post covid19 period \n",
        "#to see which precautions are the most discussed for both periods\n",
        "\n",
        "pre_precaution_percentage = [pre_precaution_count['mask']/sum(pre_precaution_count.values()),\n",
        "                             pre_precaution_count['hygiene']/sum(pre_precaution_count.values()),\n",
        "                             pre_precaution_count['distancing']/sum(pre_precaution_count.values()),\n",
        "                             pre_precaution_count['lockdown']/sum(pre_precaution_count.values()),\n",
        "                             pre_precaution_count['closure']/sum(pre_precaution_count.values()),\n",
        "                             pre_precaution_count['no_travel']/sum(pre_precaution_count.values())]\n",
        "post_precaution_percentage = [post_precaution_count['mask']/sum(post_precaution_count.values()),\n",
        "                             post_precaution_count['hygiene']/sum(post_precaution_count.values()),\n",
        "                             post_precaution_count['distancing']/sum(post_precaution_count.values()),\n",
        "                             post_precaution_count['lockdown']/sum(post_precaution_count.values()),\n",
        "                             post_precaution_count['closure']/sum(post_precaution_count.values()),\n",
        "                             post_precaution_count['no_travel']/sum(post_precaution_count.values())]\n",
        "\n",
        "N = 6\n",
        "ind = np.arange(N) # the x locations for the groups\n",
        "width = 0.35\n",
        "fig = plt.figure()\n",
        "ax = fig.add_axes([0,0,1,1])\n",
        "\n",
        "ax.bar(ind, pre_precaution_percentage, width, color='r')\n",
        "ax.bar(ind + 0.4, post_precaution_percentage, width, color='b')\n",
        "\n",
        "ax.set_ylabel('Percentage')\n",
        "ax.set_xlabel('Precaution types')\n",
        "ax.set_title('Weight comparison for each category')\n",
        "ax.set_xticks(ind+0.2)\n",
        "ax.set_xticklabels(('mask', 'hygiene', 'distancing', \"lockdown\", 'closure','no_travel'))\n",
        "ax.legend(labels=['Pre-COVID19', 'Post-COVID19'])\n",
        "plt.show()"
      ],
      "execution_count": null,
      "outputs": [
        {
          "output_type": "display_data",
          "data": {
            "image/png": "[encoded data removed]",
            "text/plain": [
              "<Figure size 432x288 with 1 Axes>"
            ]
          },
          "metadata": {
            "tags": [],
            "needs_background": "light"
          }
        }
      ]
    },
    {
      "cell_type": "markdown",
      "metadata": {
        "id": "6O8eoKEgnLGO"
      },
      "source": [
        "The figure above shows that for pre-COVID19 papers, the most mentioned precautions are 1)wearing facemask and 2)wash hands and keep general sanitization. for post-COVID19 papers, the most mentioned precautions are 1)lockdown / stay at home order and 2)social distancing. Especially for lockdown, there is a clear increasing discussion in post-COVID19 era."
      ]
    },
    {
      "cell_type": "markdown",
      "metadata": {
        "id": "le7RN3senLGO"
      },
      "source": [
        "## 3.Model selection and fitting to data"
      ]
    },
    {
      "cell_type": "markdown",
      "metadata": {
        "id": "fJhwMeYInLGO"
      },
      "source": [
        "The model selected is an unsupervised clustering method called **Hierarchical clustering**.\n",
        "\n",
        "It is chosen because it can effective group similar elements based on the distances between pairs. It is suitable to this research question because it is helpful to know which precautions are appearing together often in the papers for pre-COVID19 and post COVID19 periods. \n",
        "\n",
        "To use hierarchical clustering, we must define a distance matrix for all precaution types. By definition, the distance matrix defines the distances between any pair of elements, the distance between element A and itself is therefore 0. Since We are trying to determine which precautions are mentioned together (in the same abstract) most often, the logic for the distance matrix is that if two precautions are mentioned together often, the distance between them are smaller than another two precautions that are mentioned less often together."
      ]
    },
    {
      "cell_type": "code",
      "metadata": {
        "id": "FKt7lsKfnLGO"
      },
      "source": [
        "#The precautions and their keywords put input lists\n",
        "precautions = ['mask', 'hygiene', 'distancing', \"lockdown\", 'closure','no_travel']\n",
        "precautions_list = [precaution_mask,precaution_hygiene,precaution_distancing,\n",
        "                    precaution_lockdown,precaution_closure,precaution_notravel]"
      ],
      "execution_count": null,
      "outputs": []
    },
    {
      "cell_type": "code",
      "metadata": {
        "id": "zIajKjYNnLGO"
      },
      "source": [
        "#Helper function that will calculate the distance\n",
        "\n",
        "\"\"\"Implementation: If any keywords of precation A is mentioned in the same paper with any keywords in precaution B,\n",
        "the distance between A and B reduces by 1. If they are not mentioned together, the distance increases by 1.\n",
        "The total distance between is devided by the number of papers containing any keywords from A or B,\n",
        "to minimize the effect different total number of abstracts containing any pair of keywords\"\"\"\n",
        "\n",
        "def cumulative_dist(precaution1, precaution2, abstracts):\n",
        "    cum_sum = 0\n",
        "    number_of_papers = 0\n",
        "    if precaution1 == precaution2: return 0\n",
        "    \n",
        "    for abstract in abstracts:\n",
        "        if any(word in abstract for word in precaution1) and any(word in abstract for word in precaution2):\n",
        "            number_of_papers += 1\n",
        "            cum_sum -= 1\n",
        "        elif ((any(word in abstract for word in precaution1) and all(word not in abstract for word in precaution2)) or (all(word not in abstract for word in precaution1) and any(word in abstract for word in precaution2))):\n",
        "            number_of_papers += 1\n",
        "            cum_sum += 1\n",
        "    return cum_sum/number_of_papers\n",
        "\n",
        "\n",
        "#Populate Matrix of precaution distances for both pre-COVID papers and post-COVID papers\n",
        "\n",
        "\n",
        "pre_precaution_dist = np.zeros((len(precautions),len(precautions)),float)\n",
        "post_precaution_dist = np.zeros((len(precautions),len(precautions)),float)\n",
        "\n",
        "for i in range(len(precautions)):\n",
        "    for j in range(len(precautions)):\n",
        "        pre_precaution_dist[i][j] = cumulative_dist(precautions_list[i],precautions_list[j], pre_covid19_abstract)**10\n",
        "        post_precaution_dist[i][j] = cumulative_dist(precautions_list[i],precautions_list[j], post_covid19_abstract)**10"
      ],
      "execution_count": null,
      "outputs": []
    },
    {
      "cell_type": "code",
      "metadata": {
        "id": "eNbAgefxnLGP"
      },
      "source": [
        "df_pre_precaution = pd.DataFrame(pre_precaution_dist, columns=precautions, index=precautions)\n",
        "df_post_precaution = pd.DataFrame(post_precaution_dist, columns=precautions, index=precautions)"
      ],
      "execution_count": null,
      "outputs": []
    },
    {
      "cell_type": "code",
      "metadata": {
        "id": "4N_2nWpDnLGP",
        "outputId": "aa9d3fa8-e435-4a80-cf34-3d7473e51cfd"
      },
      "source": [
        "print(\"Precaution distance matrix for Pre-COVID19 papers\")   \n",
        "df_pre_precaution"
      ],
      "execution_count": null,
      "outputs": [
        {
          "output_type": "stream",
          "text": [
            "Precaution distance matrix for Pre-COVID19 papers\n"
          ],
          "name": "stdout"
        },
        {
          "output_type": "execute_result",
          "data": {
            "text/html": [
              "<div>\n",
              "<style scoped>\n",
              "    .dataframe tbody tr th:only-of-type {\n",
              "        vertical-align: middle;\n",
              "    }\n",
              "\n",
              "    .dataframe tbody tr th {\n",
              "        vertical-align: top;\n",
              "    }\n",
              "\n",
              "    .dataframe thead th {\n",
              "        text-align: right;\n",
              "    }\n",
              "</style>\n",
              "<table border=\"1\" class=\"dataframe\">\n",
              "  <thead>\n",
              "    <tr style=\"text-align: right;\">\n",
              "      <th></th>\n",
              "      <th>mask</th>\n",
              "      <th>hygiene</th>\n",
              "      <th>distancing</th>\n",
              "      <th>lockdown</th>\n",
              "      <th>closure</th>\n",
              "      <th>no_travel</th>\n",
              "    </tr>\n",
              "  </thead>\n",
              "  <tbody>\n",
              "    <tr>\n",
              "      <th>mask</th>\n",
              "      <td>0.000000</td>\n",
              "      <td>0.153798</td>\n",
              "      <td>0.599151</td>\n",
              "      <td>0.665084</td>\n",
              "      <td>0.946394</td>\n",
              "      <td>0.826988</td>\n",
              "    </tr>\n",
              "    <tr>\n",
              "      <th>hygiene</th>\n",
              "      <td>0.153798</td>\n",
              "      <td>0.000000</td>\n",
              "      <td>0.512793</td>\n",
              "      <td>0.590098</td>\n",
              "      <td>0.971142</td>\n",
              "      <td>0.917856</td>\n",
              "    </tr>\n",
              "    <tr>\n",
              "      <th>distancing</th>\n",
              "      <td>0.599151</td>\n",
              "      <td>0.512793</td>\n",
              "      <td>0.000000</td>\n",
              "      <td>0.363714</td>\n",
              "      <td>0.434388</td>\n",
              "      <td>0.761759</td>\n",
              "    </tr>\n",
              "    <tr>\n",
              "      <th>lockdown</th>\n",
              "      <td>0.665084</td>\n",
              "      <td>0.590098</td>\n",
              "      <td>0.363714</td>\n",
              "      <td>0.000000</td>\n",
              "      <td>0.737098</td>\n",
              "      <td>0.573671</td>\n",
              "    </tr>\n",
              "    <tr>\n",
              "      <th>closure</th>\n",
              "      <td>0.946394</td>\n",
              "      <td>0.971142</td>\n",
              "      <td>0.434388</td>\n",
              "      <td>0.737098</td>\n",
              "      <td>0.000000</td>\n",
              "      <td>0.422846</td>\n",
              "    </tr>\n",
              "    <tr>\n",
              "      <th>no_travel</th>\n",
              "      <td>0.826988</td>\n",
              "      <td>0.917856</td>\n",
              "      <td>0.761759</td>\n",
              "      <td>0.573671</td>\n",
              "      <td>0.422846</td>\n",
              "      <td>0.000000</td>\n",
              "    </tr>\n",
              "  </tbody>\n",
              "</table>\n",
              "</div>"
            ],
            "text/plain": [
              "                mask   hygiene  distancing  lockdown   closure  no_travel\n",
              "mask        0.000000  0.153798    0.599151  0.665084  0.946394   0.826988\n",
              "hygiene     0.153798  0.000000    0.512793  0.590098  0.971142   0.917856\n",
              "distancing  0.599151  0.512793    0.000000  0.363714  0.434388   0.761759\n",
              "lockdown    0.665084  0.590098    0.363714  0.000000  0.737098   0.573671\n",
              "closure     0.946394  0.971142    0.434388  0.737098  0.000000   0.422846\n",
              "no_travel   0.826988  0.917856    0.761759  0.573671  0.422846   0.000000"
            ]
          },
          "metadata": {
            "tags": []
          },
          "execution_count": 141
        }
      ]
    },
    {
      "cell_type": "code",
      "metadata": {
        "id": "ZPaWvlLfnLGP",
        "outputId": "0aaef31f-f0ad-49e8-ea57-b160ab084b4c"
      },
      "source": [
        "print(\"Precaution distance matrix for Post-COVID19 papers\")   \n",
        "df_post_precaution"
      ],
      "execution_count": null,
      "outputs": [
        {
          "output_type": "stream",
          "text": [
            "Precaution distance matrix for Post-COVID19 papers\n"
          ],
          "name": "stdout"
        },
        {
          "output_type": "execute_result",
          "data": {
            "text/html": [
              "<div>\n",
              "<style scoped>\n",
              "    .dataframe tbody tr th:only-of-type {\n",
              "        vertical-align: middle;\n",
              "    }\n",
              "\n",
              "    .dataframe tbody tr th {\n",
              "        vertical-align: top;\n",
              "    }\n",
              "\n",
              "    .dataframe thead th {\n",
              "        text-align: right;\n",
              "    }\n",
              "</style>\n",
              "<table border=\"1\" class=\"dataframe\">\n",
              "  <thead>\n",
              "    <tr style=\"text-align: right;\">\n",
              "      <th></th>\n",
              "      <th>mask</th>\n",
              "      <th>hygiene</th>\n",
              "      <th>distancing</th>\n",
              "      <th>lockdown</th>\n",
              "      <th>closure</th>\n",
              "      <th>no_travel</th>\n",
              "    </tr>\n",
              "  </thead>\n",
              "  <tbody>\n",
              "    <tr>\n",
              "      <th>mask</th>\n",
              "      <td>0.000000</td>\n",
              "      <td>0.031307</td>\n",
              "      <td>0.155005</td>\n",
              "      <td>0.487099</td>\n",
              "      <td>0.858981</td>\n",
              "      <td>0.872446</td>\n",
              "    </tr>\n",
              "    <tr>\n",
              "      <th>hygiene</th>\n",
              "      <td>0.031307</td>\n",
              "      <td>0.000000</td>\n",
              "      <td>0.239879</td>\n",
              "      <td>0.617413</td>\n",
              "      <td>0.892879</td>\n",
              "      <td>0.967686</td>\n",
              "    </tr>\n",
              "    <tr>\n",
              "      <th>distancing</th>\n",
              "      <td>0.155005</td>\n",
              "      <td>0.239879</td>\n",
              "      <td>0.000000</td>\n",
              "      <td>0.063061</td>\n",
              "      <td>0.558853</td>\n",
              "      <td>0.634215</td>\n",
              "    </tr>\n",
              "    <tr>\n",
              "      <th>lockdown</th>\n",
              "      <td>0.487099</td>\n",
              "      <td>0.617413</td>\n",
              "      <td>0.063061</td>\n",
              "      <td>0.000000</td>\n",
              "      <td>0.688321</td>\n",
              "      <td>0.611602</td>\n",
              "    </tr>\n",
              "    <tr>\n",
              "      <th>closure</th>\n",
              "      <td>0.858981</td>\n",
              "      <td>0.892879</td>\n",
              "      <td>0.558853</td>\n",
              "      <td>0.688321</td>\n",
              "      <td>0.000000</td>\n",
              "      <td>0.521517</td>\n",
              "    </tr>\n",
              "    <tr>\n",
              "      <th>no_travel</th>\n",
              "      <td>0.872446</td>\n",
              "      <td>0.967686</td>\n",
              "      <td>0.634215</td>\n",
              "      <td>0.611602</td>\n",
              "      <td>0.521517</td>\n",
              "      <td>0.000000</td>\n",
              "    </tr>\n",
              "  </tbody>\n",
              "</table>\n",
              "</div>"
            ],
            "text/plain": [
              "                mask   hygiene  distancing  lockdown   closure  no_travel\n",
              "mask        0.000000  0.031307    0.155005  0.487099  0.858981   0.872446\n",
              "hygiene     0.031307  0.000000    0.239879  0.617413  0.892879   0.967686\n",
              "distancing  0.155005  0.239879    0.000000  0.063061  0.558853   0.634215\n",
              "lockdown    0.487099  0.617413    0.063061  0.000000  0.688321   0.611602\n",
              "closure     0.858981  0.892879    0.558853  0.688321  0.000000   0.521517\n",
              "no_travel   0.872446  0.967686    0.634215  0.611602  0.521517   0.000000"
            ]
          },
          "metadata": {
            "tags": []
          },
          "execution_count": 142
        }
      ]
    },
    {
      "cell_type": "code",
      "metadata": {
        "id": "33O_9PzanLGP"
      },
      "source": [
        "import scipy.cluster.hierarchy as sch"
      ],
      "execution_count": null,
      "outputs": []
    },
    {
      "cell_type": "code",
      "metadata": {
        "id": "95njMg8PnLGQ",
        "outputId": "1be01c76-e07b-4d45-ddb8-240c10a8f056"
      },
      "source": [
        "# Distance was magnified prior to Hierarchical Clustering\n",
        "pre_Y = sch.linkage(pre_precaution_dist, method='centroid')\n",
        "\n",
        "fig = plt.figure(figsize=(10,10))\n",
        "ax1 = fig.add_axes([0.1,0.1,0.4,0.6])\n",
        "\n",
        "# Get the dendrogram\n",
        "pre_Z = sch.dendrogram(pre_Y, orientation='right')\n",
        "\n",
        "ax1.set_xticks([])\n",
        "labels = df_pre_precaution.columns[pre_Z['leaves']]\n",
        "ax1.set_yticklabels(labels)\n",
        "ax1.set_title(\"Dendrogram Displaying Precaution Clusters (Pre-COVID19)\")\n",
        "plt.show()"
      ],
      "execution_count": null,
      "outputs": [
        {
          "output_type": "stream",
          "text": [
            "<ipython-input-161-04c0064a702a>:2: ClusterWarning: scipy.cluster: The symmetric non-negative hollow observation matrix looks suspiciously like an uncondensed distance matrix\n",
            "  pre_Y = sch.linkage(pre_precaution_dist, method='centroid')\n"
          ],
          "name": "stderr"
        },
        {
          "output_type": "display_data",
          "data": {
            "image/png": "[encoded data removed]",
            "text/plain": [
              "<Figure size 720x720 with 1 Axes>"
            ]
          },
          "metadata": {
            "tags": [],
            "needs_background": "light"
          }
        }
      ]
    },
    {
      "cell_type": "code",
      "metadata": {
        "id": "wVY6mBzCnLGQ",
        "outputId": "d9759743-d813-461e-fe72-4e754014b91b"
      },
      "source": [
        "# Distance was magnified prior to Hierarchical Clustering\n",
        "post_Y = sch.linkage(post_precaution_dist, method='centroid')\n",
        "\n",
        "fig = plt.figure(figsize=(10,10))\n",
        "ax1 = fig.add_axes([0.1,0.1,0.4,0.6])\n",
        "\n",
        "# Get the dendrogram\n",
        "post_Z = sch.dendrogram(post_Y, orientation='right')\n",
        "ax1.set_xticks([])\n",
        "labels = df_post_precaution.columns[post_Z['leaves']]\n",
        "ax1.set_yticklabels(labels)\n",
        "ax1.set_title(\"Dendrogram Displaying Precaution Clusters (Post-COVID19)\")\n",
        "plt.show()"
      ],
      "execution_count": null,
      "outputs": [
        {
          "output_type": "stream",
          "text": [
            "<ipython-input-160-beca3f157be5>:2: ClusterWarning: scipy.cluster: The symmetric non-negative hollow observation matrix looks suspiciously like an uncondensed distance matrix\n",
            "  post_Y = sch.linkage(post_precaution_dist, method='centroid')\n"
          ],
          "name": "stderr"
        },
        {
          "output_type": "display_data",
          "data": {
            "image/png": "[encoded data removed]",
            "text/plain": [
              "<Figure size 720x720 with 1 Axes>"
            ]
          },
          "metadata": {
            "tags": [],
            "needs_background": "light"
          }
        }
      ]
    },
    {
      "cell_type": "markdown",
      "metadata": {
        "id": "m1Dh9g0lDj5l"
      },
      "source": [
        "##4.Insights from the Analysis"
      ]
    },
    {
      "cell_type": "markdown",
      "metadata": {
        "id": "mLye1Yp-DPJK"
      },
      "source": [
        "**1. Precaution measures are especially important for battling COVID-19**\n",
        "\n",
        "There is a significant increase in discussion about precaution measures in the post-COVID19 papers, this can be an indication that they are especially important in this battle against COVID19. Since  the scale of the pandemic is unprecedented, it takes effort from everyone to perform these precautions to protect themselves and others.\n",
        "\n",
        "**2. The most cost-effective precaution measures are wearing masks and keep general sanitization**\n",
        "\n",
        "For both pre-COVID19 and post-COVID19 papers, the most closely related precautions are mask and general sanitization, they are also the most mentioned precautions before COVID-19. They are useful and simple tactics against spread of germs, and are less controversial than the other more drastic precaution measures\n",
        "\n",
        "**3. Lockdown and social distancing are being debated and normalized**\n",
        "\n",
        "There are a lot more discussion involving lockdown and social distancing rules in the post-COVID19 papers. Partly because they have never been implemented in a global scale, and it has brought heated discussion about their impacts. The post-COVID19 papers mention them in parallel to the more traditional precaution measures, showing that they are being normalized in the current environment. \n",
        "\n",
        "**4. Travel restrictions and closing businesses are less impactful**\n",
        "\n",
        "The discussion around travel restrictions and business/school shutdowns were relatively low for both pre-COVID19 and post-COVID19 papers. Even though these precautions also used more extensively around the world than before COVID-19 time. This may be partly due to the limitation of the dataset since it is more closely related with the field of medicine and biology instead of social science, but it could also be an indication that these  measures are less impactful because countries cannot afford to implement these precaution measures in the long run.\n",
        "\n"
      ]
    }
  ]
}